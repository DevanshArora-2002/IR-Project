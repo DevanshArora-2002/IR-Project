{
 "cells": [
  {
   "cell_type": "code",
   "execution_count": null,
   "id": "288c6750",
   "metadata": {},
   "outputs": [],
   "source": [
    "from sentence_transformers import SentenceTransformer\n",
    "from sentence_transformers.util import cos_sim\n",
    "import os\n",
    "model = SentenceTransformer('all-MiniLM-L6-v2')"
   ]
  },
  {
   "cell_type": "code",
   "execution_count": null,
   "id": "cba5498b",
   "metadata": {},
   "outputs": [],
   "source": [
    "gen_path = os.path.join(os.path.dirname(os.getcwd()), 'Baseline_Results')\n",
    "orig_path = gen_path+'/original.txt'\n",
    "model_path = gen_path+\"/model.txt\""
   ]
  },
  {
   "cell_type": "code",
   "execution_count": null,
   "id": "934450c5",
   "metadata": {},
   "outputs": [],
   "source": [
    "with open(orig_path, 'r', encoding='utf-8') as file:\n",
    "    orig_data = file.read()\n",
    "    \n",
    "with open(model_path, 'r', encoding='utf-8') as file:\n",
    "    model_data = file.read()\n",
    "\n",
    "\n",
    "original_data_lst = list(orig_data.strip('@_@'))\n",
    "model_data_lst = list(model_data.strip('@_@'))"
   ]
  },
  {
   "cell_type": "code",
   "execution_count": null,
   "id": "3aa6f0bc",
   "metadata": {},
   "outputs": [],
   "source": [
    "def get_scores(list1,list2,model):\n",
    "    scores = []\n",
    "    for i in range(len(list1)):\n",
    "        sentences = [list1[i],list2[i]]\n",
    "        embedded_list = model.encode(sentences)\n",
    "        similarity = cos_sim(embedded_list[0],embedded_list[1])\n",
    "        scores.append(similarity)\n",
    "    return scores"
   ]
  },
  {
   "cell_type": "code",
   "execution_count": 5,
   "id": "e2d535cd",
   "metadata": {},
   "outputs": [
    {
     "name": "stdout",
     "output_type": "stream",
     "text": [
      "['ioancdocn', 'a', 'csc']\n"
     ]
    }
   ],
   "source": [
    "import re\n",
    "\n",
    "word = \"ioancdocn(a)csc;\"\n",
    "\n",
    "if re.findall(r\"[.;'(),]\", word):\n",
    "    # Split the word at any of the specified punctuation characters, keeping the characters in the result\n",
    "    parts = re.split(r\"([.;'(),])\", word)\n",
    "    \n",
    "    # Define the characters to remove from the split results\n",
    "    remove_chars = \".;()',\"\n",
    "    \n",
    "    # Filter the split results to remove the specified punctuation characters and empty strings\n",
    "    filtered_parts = [part for part in parts if part not in remove_chars and part != '']\n",
    "\n",
    "    print(filtered_parts)"
   ]
  },
  {
   "cell_type": "code",
   "execution_count": 8,
   "id": "da10335c",
   "metadata": {},
   "outputs": [
    {
     "name": "stderr",
     "output_type": "stream",
     "text": [
      "[nltk_data] Downloading package words to\n",
      "[nltk_data]     /Users/devansharora/nltk_data...\n",
      "[nltk_data]   Package words is already up-to-date!\n"
     ]
    }
   ],
   "source": [
    "import nltk\n",
    "from nltk.corpus import words\n",
    "nltk.download('words')\n",
    "word_list = set(words.words())"
   ]
  },
  {
   "cell_type": "code",
   "execution_count": 9,
   "id": "faf72602",
   "metadata": {},
   "outputs": [
    {
     "name": "stdout",
     "output_type": "stream",
     "text": [
      "235892\n"
     ]
    }
   ],
   "source": [
    "print(len(word_list))"
   ]
  },
  {
   "cell_type": "code",
   "execution_count": null,
   "id": "47bc46e1",
   "metadata": {},
   "outputs": [],
   "source": []
  }
 ],
 "metadata": {
  "kernelspec": {
   "display_name": "Python 3 (ipykernel)",
   "language": "python",
   "name": "python3"
  },
  "language_info": {
   "codemirror_mode": {
    "name": "ipython",
    "version": 3
   },
   "file_extension": ".py",
   "mimetype": "text/x-python",
   "name": "python",
   "nbconvert_exporter": "python",
   "pygments_lexer": "ipython3",
   "version": "3.11.5"
  }
 },
 "nbformat": 4,
 "nbformat_minor": 5
}
